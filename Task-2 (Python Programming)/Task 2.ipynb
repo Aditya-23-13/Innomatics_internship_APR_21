{
 "cells": [
  {
   "cell_type": "code",
   "execution_count": null,
   "metadata": {},
   "outputs": [],
   "source": [
    "# Question 1:\n",
    "\n",
    "x = int(input())\n",
    "y = int(input())\n",
    "z = int(input())\n",
    "n = int(input())\n",
    "list1=[[i,j,k] for i in range(x+1) for j in range(0,y+1) for k in range(0,z+1) if i+j+k!=n]\n",
    "print(list1)"
   ]
  },
  {
   "cell_type": "code",
   "execution_count": null,
   "metadata": {},
   "outputs": [],
   "source": [
    "# Question 2:\n",
    "n=int(input()) \n",
    "c =[int(i) for i in input().split()][:n]\n",
    "c.sort()\n",
    "c.reverse()\n",
    "v=max(c)\n",
    "for i in range(n):\n",
    "    if(c[i]<v):\n",
    "        print(c[i])\n",
    "        break\n",
    "\n"
   ]
  },
  {
   "cell_type": "code",
   "execution_count": null,
   "metadata": {},
   "outputs": [],
   "source": [
    "# Question 3:\n",
    "new=[]\n",
    "new2=[]\n",
    "new3=[]\n",
    "n=int(input(''))\n",
    "for i in range(0,n):\n",
    "    name=input('')\n",
    "    list1=new.append(name)\n",
    "    marks=float(input(''))\n",
    "    list2=new2.append(marks)\n",
    "new3=list(set(new2))\n",
    "s=sorted(new3,reverse=True)[-2]\n",
    "\n",
    "pos_list = []\n",
    "for i in range(len(new2)):\n",
    "    if new2[i] ==s:\n",
    "        pos_list.append(i)\n",
    "\n",
    "save=[new[i] for i in pos_list]\n",
    "for i in sorted(save):\n",
    "    print(i)\n"
   ]
  },
  {
   "cell_type": "code",
   "execution_count": null,
   "metadata": {},
   "outputs": [],
   "source": [
    "#Question 4:\n",
    "n=int(input(''))\n",
    "d={}\n",
    "for i in range(0,n):\n",
    "    new=input('')\n",
    "    s=new.split()\n",
    "    d[s[0]]=[float(s[1]),float(s[2]),float(s[3])] \n",
    "sr=input()\n",
    "\n",
    "score=(d[sr][0]+d[sr][1]+d[sr][2])/3\n",
    "print(\"{:.2f}\".format(score))"
   ]
  },
  {
   "cell_type": "code",
   "execution_count": null,
   "metadata": {},
   "outputs": [],
   "source": [
    "#Question 5:\n",
    "n = int(input())\n",
    "list1 = []\n",
    "for i in range(n):\n",
    "    s = input().split()\n",
    "    command = s[0]\n",
    "    num = s[1:]\n",
    "    if command !=\"print\":\n",
    "        command += \"(\"+ \",\".join(num) +\")\"\n",
    "        eval(\"list1.\"+command)\n",
    "    else:\n",
    "        print (list1)"
   ]
  },
  {
   "cell_type": "code",
   "execution_count": null,
   "metadata": {},
   "outputs": [],
   "source": [
    "#Question 6:\n",
    "\n",
    "def average(array):\n",
    "    # your code goes here\n",
    "    add=set(array)\n",
    "    return sum(add)/(len(add))\n",
    "\n",
    "if __name__ == '__main__':\n",
    "    n = int(input())\n",
    "    arr = list(map(int, input().split()))\n",
    "    result = average(arr)\n",
    "    print(result)"
   ]
  },
  {
   "cell_type": "code",
   "execution_count": null,
   "metadata": {},
   "outputs": [],
   "source": [
    "#Question 7:\n",
    "\n",
    "if __name__ == '__main__':\n",
    "    n = int(input())\n",
    "    integer_list = map(int, input().split())\n",
    "    s= tuple(integer_list)\n",
    "    print(hash(s))"
   ]
  },
  {
   "cell_type": "code",
   "execution_count": null,
   "metadata": {},
   "outputs": [],
   "source": [
    "#Question 8:\n",
    "\n",
    "s = input()\n",
    "array = input().split()\n",
    "like = set(input().split())\n",
    "dislike = set(input().split())\n",
    "print(sum((i in like) - (i in dislike) for i in array))"
   ]
  },
  {
   "cell_type": "code",
   "execution_count": null,
   "metadata": {},
   "outputs": [],
   "source": [
    "#Question 9:\n",
    "\n",
    "n=int(input())\n",
    "name=[str(input()) for i in range(n)]\n",
    "print(len(set(name)))"
   ]
  },
  {
   "cell_type": "code",
   "execution_count": null,
   "metadata": {},
   "outputs": [],
   "source": [
    "#Question 10:\n",
    "\n",
    "n=int(input())\n",
    "num=input().split()\n",
    "n1=int(input())\n",
    "num1=input().split()\n",
    "a=set(num)\n",
    "b=set(num1)\n",
    "diff1=a.difference(b)\n",
    "diff2=b.difference(a)\n",
    "r=diff1.union(diff2)\n",
    "print ('\\n'.join(sorted(r, key=int)))"
   ]
  },
  {
   "cell_type": "code",
   "execution_count": null,
   "metadata": {},
   "outputs": [],
   "source": [
    "#Question 11:\n",
    "\n",
    "n = int(input())\n",
    "s = set(map(int, input().split()))\n",
    "op=int(input())\n",
    "for x in range(op):\n",
    "    op_list=input().split()\n",
    "    if op_list[0]=='pop':\n",
    "        s.pop()\n",
    "    elif op_list[0]=='remove':\n",
    "        s.remove(int(op_list[1]))\n",
    "    elif op_list[0]=='discard':\n",
    "        s.discard(int(op_list[1]))\n",
    "            \n",
    "print(sum(s))"
   ]
  },
  {
   "cell_type": "code",
   "execution_count": null,
   "metadata": {},
   "outputs": [],
   "source": [
    "#Question 12:\n",
    "\n",
    "a,list1=(int(input()),input().split())\n",
    "b,list2=(int(input()),input().split())\n",
    "\n",
    "print(len(set(list1).union(set(list2))))"
   ]
  },
  {
   "cell_type": "code",
   "execution_count": null,
   "metadata": {},
   "outputs": [],
   "source": [
    "#Question 13:\n",
    "\n",
    "a,list1=(int(input()),input().split())\n",
    "b,list2=(int(input()),input().split())\n",
    "print(len(set(list1).intersection(set(list2))))"
   ]
  },
  {
   "cell_type": "code",
   "execution_count": null,
   "metadata": {},
   "outputs": [],
   "source": [
    "#Question 14:\n",
    "\n",
    "a,list1=(int(input()),input().split())\n",
    "b,list2=(int(input()),input().split())\n",
    "print(len(set(list1).difference(set(list2))))\n"
   ]
  },
  {
   "cell_type": "code",
   "execution_count": null,
   "metadata": {},
   "outputs": [],
   "source": [
    "#Question 15:\n",
    "\n",
    "a,list1=(int(input()),input().split())\n",
    "b,list2=(int(input()),input().split())\n",
    "print(len(set(list1).symmetric_difference(set(list2))))"
   ]
  },
  {
   "cell_type": "code",
   "execution_count": null,
   "metadata": {},
   "outputs": [],
   "source": [
    "#Question 16:\n",
    "\n",
    "n=set(input().split())\n",
    "num=int(input())\n",
    "count=0\n",
    "for i in range(num):\n",
    "    list1=set(input().split())\n",
    "    if n.issuperset(list1):\n",
    "        count+=1\n",
    "print(count==num)"
   ]
  },
  {
   "cell_type": "code",
   "execution_count": null,
   "metadata": {},
   "outputs": [],
   "source": [
    "#Question 17:\n",
    "\n",
    "n=int(input())\n",
    "for i in range(n):\n",
    "    a,list1=int(input()),input().split()\n",
    "    b,list2=int(input()),input().split()\n",
    "    if set(list1).issubset(set(list2)):\n",
    "        print('True')\n",
    "    else:\n",
    "        print('False')"
   ]
  },
  {
   "cell_type": "code",
   "execution_count": null,
   "metadata": {},
   "outputs": [],
   "source": [
    "#Question 18:\n",
    "\n",
    "d=input();  \n",
    "list1=input().split();  \n",
    "s1=set();  \n",
    "s2=set();  \n",
    "for i in list1:\n",
    "    if  i in s1:\n",
    "        s2.add(i);\n",
    "    else:\n",
    "        s1.add(i);\n",
    "s3=s1.difference(s2);\n",
    "print(''.join(s3))"
   ]
  },
  {
   "cell_type": "code",
   "execution_count": null,
   "metadata": {},
   "outputs": [],
   "source": [
    "#Question 19:\n",
    "\n",
    "i = int(input())\n",
    "s1 = set(map(int, input().split()))\n",
    "N = int(input())\n",
    "\n",
    "for i in range(N):\n",
    "    cmd, i = input().split()\n",
    "    s2 = set(map(int, input().split()))\n",
    "    if(cmd == \"intersection_update\"):\n",
    "        s1.intersection_update(s2)\n",
    "    elif(cmd == \"update\"):\n",
    "        s1.update(s2)\n",
    "    elif(cmd == \"symmetric_difference_update\"):\n",
    "        s1.symmetric_difference_update(s2)\n",
    "    elif(cmd == \"difference_update\"):\n",
    "        s1.difference_update(s2)\n",
    "\n",
    "print(sum(s1))"
   ]
  }
 ],
 "metadata": {
  "kernelspec": {
   "display_name": "Python 3",
   "language": "python",
   "name": "python3"
  },
  "language_info": {
   "codemirror_mode": {
    "name": "ipython",
    "version": 3
   },
   "file_extension": ".py",
   "mimetype": "text/x-python",
   "name": "python",
   "nbconvert_exporter": "python",
   "pygments_lexer": "ipython3",
   "version": "3.8.3"
  }
 },
 "nbformat": 4,
 "nbformat_minor": 4
}
